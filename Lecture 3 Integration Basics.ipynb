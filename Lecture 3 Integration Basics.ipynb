{
 "cells": [
  {
   "cell_type": "markdown",
   "metadata": {},
   "source": [
    "# Lecture 3: integration basics\n",
    "Physics 177, Spring 2018  \n",
    "Prof. Flip Tanedo"
   ]
  },
  {
   "cell_type": "markdown",
   "metadata": {},
   "source": [
    "Some learning goals:\n",
    "- Defining functions\n",
    "- Reminder of loops, Kernel interrupt\n",
    "- Building a simple integrator"
   ]
  },
  {
   "cell_type": "code",
   "execution_count": 3,
   "metadata": {},
   "outputs": [
    {
     "name": "stdout",
     "output_type": "stream",
     "text": [
      "3.0\n",
      "12.0\n"
     ]
    }
   ],
   "source": [
    "def myFunction(x):\n",
    "    return 3.*x**2\n",
    "\n",
    "print(myFunction(1)) # should be 3\n",
    "print(myFunction(2)) # should be 4x previous result"
   ]
  },
  {
   "cell_type": "markdown",
   "metadata": {},
   "source": [
    "What happens if you get stuck in a loop? From the Jupyter menu bar:\n",
    "`kernel` > `interrupt`\n",
    "\n",
    "Try the code below and and then interrupt the kernel when it doesn't stop.\n",
    "\n",
    "Note the asterisk `[*]` showing that the cell is still working"
   ]
  },
  {
   "cell_type": "code",
   "execution_count": 5,
   "metadata": {},
   "outputs": [
    {
     "ename": "KeyboardInterrupt",
     "evalue": "",
     "output_type": "error",
     "traceback": [
      "\u001b[0;31m---------------------------------------------------------------------------\u001b[0m",
      "\u001b[0;31mKeyboardInterrupt\u001b[0m                         Traceback (most recent call last)",
      "\u001b[0;32m<ipython-input-5-201c2a6fe893>\u001b[0m in \u001b[0;36m<module>\u001b[0;34m()\u001b[0m\n\u001b[1;32m      1\u001b[0m \u001b[0msome_index\u001b[0m \u001b[0;34m=\u001b[0m \u001b[0;36m1\u001b[0m\u001b[0;34m\u001b[0m\u001b[0m\n\u001b[1;32m      2\u001b[0m \u001b[0;32mwhile\u001b[0m \u001b[0msome_index\u001b[0m \u001b[0;34m>\u001b[0m \u001b[0;36m0\u001b[0m\u001b[0;34m:\u001b[0m\u001b[0;34m\u001b[0m\u001b[0m\n\u001b[0;32m----> 3\u001b[0;31m     \u001b[0msome_index\u001b[0m \u001b[0;34m=\u001b[0m \u001b[0msome_index\u001b[0m \u001b[0;34m+\u001b[0m \u001b[0;36m1\u001b[0m\u001b[0;34m\u001b[0m\u001b[0m\n\u001b[0m\u001b[1;32m      4\u001b[0m     \u001b[0;31m# This will never end!\u001b[0m\u001b[0;34m\u001b[0m\u001b[0;34m\u001b[0m\u001b[0m\n",
      "\u001b[0;31mKeyboardInterrupt\u001b[0m: "
     ]
    }
   ],
   "source": [
    "some_index = 1\n",
    "while some_index > 0:\n",
    "    some_index = some_index + 1 \n",
    "    # This will never end!"
   ]
  },
  {
   "cell_type": "markdown",
   "metadata": {},
   "source": [
    "Now let's define a function integrator. This is a function that takes a function, $f(x)$, some parameters, and outputs a number corresponding to the integral of $f(x)$ over some range with some accuracy. We're going to use ordinary Riemann sums. Please spend time over the next two weeks reading Chapter 5 of Newman."
   ]
  },
  {
   "cell_type": "code",
   "execution_count": 10,
   "metadata": {},
   "outputs": [],
   "source": [
    "def integrate_zero_to_one(function_name, delta_x):\n",
    "    \"\"\"Riemann sum integration of function with given bin size from 0 to 1\"\"\"\n",
    "    \n",
    "    sample_at = delta_x/2.0 # sample function in between steps\n",
    "    total = 0.0 # initialize sum\n",
    "    \n",
    "    while sample_at < 1:\n",
    "        total = total + function_name(sample_at)*delta_x\n",
    "        sample_at = sample_at + delta_x\n",
    "        \n",
    "    return total"
   ]
  },
  {
   "cell_type": "code",
   "execution_count": 18,
   "metadata": {},
   "outputs": [
    {
     "data": {
      "text/plain": [
       "1.000000000001246"
      ]
     },
     "execution_count": 18,
     "metadata": {},
     "output_type": "execute_result"
    }
   ],
   "source": [
    "integrate_zero_to_one(myFunction, .000001)"
   ]
  },
  {
   "cell_type": "markdown",
   "metadata": {},
   "source": [
    "Rule of thumb (Newman ch. 4): things start taking a long time when you do around a billion operations. A million takes less than 1 second."
   ]
  },
  {
   "cell_type": "code",
   "execution_count": 22,
   "metadata": {},
   "outputs": [
    {
     "name": "stdout",
     "output_type": "stream",
     "text": [
      "0.4059567451477051\n"
     ]
    }
   ],
   "source": [
    "import time\n",
    "start_time = time.time()\n",
    "integrate_zero_to_one(myFunction, .000001)\n",
    "print(time.time()-start_time)\n"
   ]
  },
  {
   "cell_type": "code",
   "execution_count": 26,
   "metadata": {},
   "outputs": [
    {
     "name": "stdout",
     "output_type": "stream",
     "text": [
      "It took 0.4085550308227539 seconds!\n"
     ]
    }
   ],
   "source": [
    "# a clever way using string formatting\n",
    "# https://www.learnpython.org/en/String_Formatting\n",
    "# https://stackoverflow.com/a/1557584\n",
    "\n",
    "import time\n",
    "start_time = time.time()\n",
    "integrate_zero_to_one(myFunction, .000001)\n",
    "print(\"It took %s seconds!\" % (time.time()-start_time)) "
   ]
  },
  {
   "cell_type": "code",
   "execution_count": 28,
   "metadata": {},
   "outputs": [
    {
     "name": "stdout",
     "output_type": "stream",
     "text": [
      "It took 4.052467107772827 seconds!\n"
     ]
    }
   ],
   "source": [
    "start_time = time.time()\n",
    "integrate_zero_to_one(myFunction, .0000001)\n",
    "print(\"It took %s seconds!\" % (time.time()-start_time)) "
   ]
  },
  {
   "cell_type": "markdown",
   "metadata": {},
   "source": [
    "## Precision"
   ]
  },
  {
   "cell_type": "code",
   "execution_count": 2,
   "metadata": {},
   "outputs": [
    {
     "data": {
      "text/plain": [
       "1.25"
      ]
     },
     "execution_count": 2,
     "metadata": {},
     "output_type": "execute_result"
    }
   ],
   "source": [
    "x = 1E15\n",
    "y = 1000000000000001.2345678\n",
    "y-x"
   ]
  },
  {
   "cell_type": "markdown",
   "metadata": {},
   "source": [
    "Lesson: useful to encode small quantities separately from big ones. Separation of scales.\n",
    "\n",
    "Example: quadratic equation solver:\n",
    "$$ax^2+bx+c=0$$\n",
    "has solutions:\n",
    "$$x_\\pm = \\frac{-b \\pm \\sqrt{b^2-4ac}}{2a}$$"
   ]
  },
  {
   "cell_type": "code",
   "execution_count": 9,
   "metadata": {},
   "outputs": [
    {
     "name": "stdout",
     "output_type": "stream",
     "text": [
      "-0.1127016653792583\n"
     ]
    }
   ],
   "source": [
    "# Example: quadratic solver\n",
    "from math import sqrt\n",
    "\n",
    "def quad_plus(a,b,c):\n",
    "    discriminant = sqrt(b**2 - 4.*a*c)\n",
    "    numerator = -b + discriminant\n",
    "    return numerator/(2*a)\n",
    "\n",
    "def quad_minus(a,b,c):\n",
    "    discriminant = sqrt(b**2 - 4.*a*c)\n",
    "    numerator = -b - discriminant\n",
    "    return numerator/(2*a)\n",
    "\n",
    "print(quad_plus(1,1,.1)) # should be -0.112702"
   ]
  },
  {
   "cell_type": "code",
   "execution_count": 10,
   "metadata": {},
   "outputs": [
    {
     "data": {
      "text/plain": [
       "-9.999894245993346e-07"
      ]
     },
     "execution_count": 10,
     "metadata": {},
     "output_type": "execute_result"
    }
   ],
   "source": [
    "# Now try this for big and small numbers:\n",
    "quad_plus(.001, 1000,.001)"
   ]
  },
  {
   "cell_type": "code",
   "execution_count": 11,
   "metadata": {},
   "outputs": [
    {
     "data": {
      "text/plain": [
       "-999999.999999"
      ]
     },
     "execution_count": 11,
     "metadata": {},
     "output_type": "execute_result"
    }
   ],
   "source": [
    "quad_minus(.001, 1000,.001)"
   ]
  },
  {
   "cell_type": "code",
   "execution_count": null,
   "metadata": {},
   "outputs": [],
   "source": []
  }
 ],
 "metadata": {
  "kernelspec": {
   "display_name": "Python 3",
   "language": "python",
   "name": "python3"
  },
  "language_info": {
   "codemirror_mode": {
    "name": "ipython",
    "version": 3
   },
   "file_extension": ".py",
   "mimetype": "text/x-python",
   "name": "python",
   "nbconvert_exporter": "python",
   "pygments_lexer": "ipython3",
   "version": "3.6.3"
  }
 },
 "nbformat": 4,
 "nbformat_minor": 2
}
